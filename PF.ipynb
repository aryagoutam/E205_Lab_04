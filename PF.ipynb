{
 "cells": [
  {
   "cell_type": "code",
   "execution_count": 1,
   "id": "d5607080",
   "metadata": {},
   "outputs": [
    {
     "data": {
      "text/plain": [
       "'\\nAuthor: Andrew Q. Pham, Victor Shia\\nEmail: apham@g.hmc.edu, vshia@g.hmc.edu\\nDate of Creation: 2/26/20\\nDescription:\\n    Particle filter implementation to filtering localization estimate\\n    This code is for teaching purposes for HMC ENGR205 System Simulation Lab 4\\n    Student code version with parts omitted.\\n'"
      ]
     },
     "execution_count": 1,
     "metadata": {},
     "output_type": "execute_result"
    }
   ],
   "source": [
    "\"\"\"\n",
    "Author: Andrew Q. Pham, Victor Shia\n",
    "Email: apham@g.hmc.edu, vshia@g.hmc.edu\n",
    "Date of Creation: 2/26/20\n",
    "Description:\n",
    "    Particle filter implementation to filtering localization estimate\n",
    "    This code is for teaching purposes for HMC ENGR205 System Simulation Lab 4\n",
    "    Student code version with parts omitted.\n",
    "\"\"\"\n"
   ]
  },
  {
   "cell_type": "code",
   "execution_count": 2,
   "id": "7febadf4",
   "metadata": {},
   "outputs": [],
   "source": [
    "from utils import *\n",
    "import matplotlib.pyplot as plt\n",
    "import numpy as np\n",
    "import shelve\n",
    "import scipy.stats"
   ]
  },
  {
   "cell_type": "code",
   "execution_count": 3,
   "id": "8e98c100",
   "metadata": {},
   "outputs": [],
   "source": [
    "# RANDOM OBJECTS\n",
    "\n",
    "rng = np.random.default_rng(0)\n",
    "meas_rv = scipy.stats.multivariate_normal(mean = np.array([0,0,0]), cov = meas_cov)"
   ]
  },
  {
   "cell_type": "code",
   "execution_count": 4,
   "id": "eb70858c",
   "metadata": {},
   "outputs": [],
   "source": [
    "def propagate_state(x_t_prev, noisy_u_t):\n",
    "    \"\"\"Propagate/predict the state based on chosen motion model\n",
    "\n",
    "    Parameters:\n",
    "    x_t_prev (np.array)  -- the previous state estimate, P x N\n",
    "    u_t (np.array)       -- the current control input, P x U\n",
    "\n",
    "    Returns:\n",
    "    x_bar_t (np.array)   -- the predicted state\n",
    "    \"\"\"\n",
    "    \"\"\"STUDENT CODE START\"\"\"\n",
    "    x_vel_prev = x_t_prev[:,2]\n",
    "    y_vel_prev = x_t_prev[:,3]\n",
    "    yaw_prev = x_t_prev[:,4]\n",
    "    \n",
    "    x_acc = noisy_u_t[:,0]\n",
    "    yaw_vel = noisy_u_t[:,1]\n",
    "    \n",
    "    x_bar_t = np.zeros_like(x_t_prev)\n",
    "\n",
    "    #Propagation does not change the weights\n",
    "    x_bar_t[:,0] = x_vel_prev * DT\n",
    "    x_bar_t[:,1] = y_vel_prev * DT\n",
    "    x_bar_t[:,2] = x_acc * np.cos(yaw_prev) * DT\n",
    "    x_bar_t[:,3] = x_acc * np.sin(yaw_prev) * DT\n",
    "    x_bar_t[:,4] = yaw_vel * DT\n",
    "    x_bar_t += x_t_prev\n",
    "                                   \n",
    "    \"\"\"STUDENT CODE END\"\"\"\n",
    "    return x_bar_t"
   ]
  },
  {
   "cell_type": "code",
   "execution_count": 5,
   "id": "5f16bd31",
   "metadata": {},
   "outputs": [],
   "source": [
    "def calc_meas_prediction(x_bar_t):\n",
    "    \"\"\"Calculate predicted measurement based on the predicted state\n",
    "\n",
    "    Parameters:\n",
    "    x_bar_t (np.array)  -- the predicted state\n",
    "\n",
    "    Returns:\n",
    "    z_bar_t (np.array)  -- the predicted measurement\n",
    "    \"\"\"\n",
    "\n",
    "    \"\"\"STUDENT CODE START\"\"\"\n",
    "    z_bar_t = np.zeros((PARTICLES, MEASUREMENTS))\n",
    "    \n",
    "    z_bar_t[:,0] = x_bar_t[:,0]\n",
    "    z_bar_t[:,1] = x_bar_t[:,1]\n",
    "    z_bar_t[:,2] = x_bar_t[:,4]\n",
    "    \"\"\"STUDENT CODE END\"\"\"\n",
    "\n",
    "    return z_bar_t"
   ]
  },
  {
   "cell_type": "code",
   "execution_count": 6,
   "id": "df2a352e",
   "metadata": {},
   "outputs": [],
   "source": [
    "def prediction_and_correction_step(x_t_prev, u_t, z_t):\n",
    "    \"\"\"Compute the prediction and correction (re-weighting) for the PF\n",
    "\n",
    "    Parameters:\n",
    "    x_t_prev (np.array)         -- the previous state estimate\n",
    "    u_t (np.array)              -- the control input\n",
    "    z_t (np.array)              -- the current measurement\n",
    "\n",
    "    Returns:\n",
    "    x_bar_t (np.array)          -- the predicted state estimate of time t\n",
    "    \"\"\"\n",
    "\n",
    "    \"\"\"STUDENT CODE START\"\"\"\n",
    "    \n",
    "    # Adding noise before propagation\n",
    "    \n",
    "    x_acc, yaw_vel = u_t #2x1\n",
    "    \n",
    "    # Prediction step\n",
    "    x_acc_noise = np.random.normal(loc = 0, scale = x_acc_std, size = PARTICLES)\n",
    "    yaw_vel_noise = np.random.normal(loc = 0, scale = yaw_vel_std, size = PARTICLES)\n",
    "    \n",
    "    noisy_u_t = np.zeros((PARTICLES, CONTROLS))\n",
    "    noisy_u_t[:,0] = x_acc + x_acc_noise\n",
    "    noisy_u_t[:,1] = yaw_vel + yaw_vel_noise\n",
    "    \n",
    "    x_bar_t = propagate_state(x_t_prev, noisy_u_t) # PARTICLES x STATES\n",
    "    \n",
    "    # Correction\n",
    "#     z_bar_t = calc_meas_prediction(x_bar_t) # PARTICLES x MEASUREMENTS\n",
    "    \n",
    "#     meas_diff = z_bar_t - z_t.reshape(1,MEASUREMENTS) # PARTICLES x MEASUREMENTS\n",
    "#     new_weights = meas_rv.pdf(meas_diff) # PARTICLES x 1\n",
    "#     new_weights /= np.sum(new_weights)\n",
    "    \n",
    "    #### TODO REMOVE *****************************************************************************\n",
    "    new_weights = 1/PARTICLES\n",
    "    \n",
    "    x_bar_t[:,5] = new_weights\n",
    "    \"\"\"STUDENT CODE END\"\"\"\n",
    "\n",
    "    return x_bar_t"
   ]
  },
  {
   "cell_type": "code",
   "execution_count": 7,
   "id": "0d941926",
   "metadata": {},
   "outputs": [],
   "source": [
    "def resample_step(x_bar_t):\n",
    "    \"\"\"Ressampling step for the PF\n",
    "\n",
    "    Parameters:\n",
    "    x_bar_t       (np.array)    -- the predicted state estimate of time t\n",
    "    \"\"\"\n",
    "\n",
    "    \"\"\"STUDENT CODE START\"\"\"\n",
    "    \n",
    "    x_est_t = rng.choice(a = x_bar_t, \n",
    "                         size = PARTICLES, \n",
    "                         p = x_bar_t[:,5],\n",
    "                         axis = 0)\n",
    "    x_est_t[:,5] = 1/PARTICLES\n",
    "    \n",
    "    \"\"\"STUDENT CODE END\"\"\"\n",
    "\n",
    "    return x_est_t"
   ]
  },
  {
   "cell_type": "code",
   "execution_count": 8,
   "id": "fae39b9d",
   "metadata": {},
   "outputs": [],
   "source": [
    "def moving_average(x, window = 10):\n",
    "    return np.convolve(x, 1.0 * np.ones(window) / window, 'full')"
   ]
  },
  {
   "cell_type": "code",
   "execution_count": 9,
   "id": "da768b69",
   "metadata": {},
   "outputs": [],
   "source": [
    "filepath = \"../E205_Lab_03/logs/\"\n",
    "filename = \"2020_2_26__16_59_7\"\n",
    "# filename = \"2020_2_26__17_21_59\"\n",
    "data, is_filtered = load_data(filepath + filename)\n",
    "\n",
    "# Save filtered data so don't have to process unfiltered data everytime\n",
    "if not is_filtered:\n",
    "    data = filter_data(data)\n",
    "    save_data(f_data, filepath+filename+\"_filtered.csv\")"
   ]
  },
  {
   "cell_type": "code",
   "execution_count": 10,
   "id": "0fa6b7b4",
   "metadata": {},
   "outputs": [],
   "source": [
    "# Load data into variables\n",
    "x_lidar = np.array(data[\"X\"])\n",
    "y_lidar = np.array(data[\"Y\"])\n",
    "z_lidar = data[\"Z\"]\n",
    "time_stamps = data[\"Time Stamp\"]\n",
    "lat_gps = np.array(data[\"Latitude\"])\n",
    "lon_gps = np.array(data[\"Longitude\"])\n",
    "yaw_lidar = np.array(data[\"Yaw\"])\n",
    "pitch_lidar = data[\"Pitch\"]\n",
    "roll_lidar = data[\"Roll\"]\n",
    "x_acc = np.array(data[\"AccelX\"])\n",
    "y_acc = np.array(data[\"AccelY\"])\n",
    "\n",
    "lat_origin = lat_gps[0]\n",
    "lon_origin = lon_gps[0]\n",
    "\n",
    "### TRANSFORMS/EDITS/OVERWRITES\n",
    "yaw_lidar = (np.array(yaw_lidar) * -1) * np.pi/180\n",
    "yaw_lidar = our_wrap_to_pi(yaw_lidar)\n",
    "\n",
    "time_stamps = np.arange(len(time_stamps)) * 0.1\n",
    "\n",
    "window_size = 3\n",
    "\n",
    "x_acc = np.convolve(np.array(x_acc), np.ones(3)/3, mode = 'same')\n",
    "#y_acc = np.convolve(np.array(y_acc), np.ones(3)/3, mode = 'same')\n",
    "\n",
    "z_x = 5 - (y_lidar*np.cos(yaw_lidar) + x_lidar*np.sin(yaw_lidar))\n",
    "z_y = -5 - (y_lidar*np.sin(yaw_lidar) - x_lidar*np.cos(yaw_lidar))\n",
    "z_yaw = yaw_lidar\n",
    "\n",
    "yaw_vel = our_wrap_to_pi(yaw_lidar[1:]-yaw_lidar[:-1]) / DT\n",
    "yaw_vel = np.append(yaw_vel, yaw_vel[-1])"
   ]
  },
  {
   "cell_type": "code",
   "execution_count": 11,
   "id": "4eb60ae3",
   "metadata": {},
   "outputs": [
    {
     "name": "stdout",
     "output_type": "stream",
     "text": [
      "0\n",
      "1\n",
      "2\n",
      "3\n",
      "4\n",
      "5\n",
      "6\n",
      "7\n",
      "8\n",
      "9\n",
      "10\n",
      "11\n",
      "12\n",
      "13\n",
      "14\n",
      "15\n",
      "16\n",
      "17\n",
      "18\n",
      "19\n",
      "20\n",
      "21\n",
      "22\n",
      "23\n",
      "24\n",
      "25\n",
      "26\n",
      "27\n",
      "28\n",
      "29\n",
      "30\n",
      "31\n",
      "32\n",
      "33\n",
      "34\n",
      "35\n",
      "36\n",
      "37\n",
      "38\n",
      "39\n",
      "40\n",
      "41\n",
      "42\n",
      "43\n",
      "44\n",
      "45\n",
      "46\n",
      "47\n",
      "48\n",
      "49\n",
      "50\n",
      "51\n",
      "52\n",
      "53\n",
      "54\n",
      "55\n",
      "56\n",
      "57\n",
      "58\n",
      "59\n",
      "60\n",
      "61\n",
      "62\n",
      "63\n",
      "64\n",
      "65\n",
      "66\n",
      "67\n",
      "68\n",
      "69\n",
      "70\n",
      "71\n",
      "72\n",
      "73\n",
      "74\n",
      "75\n",
      "76\n",
      "77\n",
      "78\n",
      "79\n",
      "80\n",
      "81\n",
      "82\n",
      "83\n",
      "84\n",
      "85\n",
      "86\n",
      "87\n",
      "88\n",
      "89\n",
      "90\n",
      "91\n",
      "92\n",
      "93\n",
      "94\n",
      "95\n",
      "96\n",
      "97\n",
      "98\n",
      "99\n"
     ]
    },
    {
     "data": {
      "text/plain": [
       "'STUDENT CODE END'"
      ]
     },
     "execution_count": 11,
     "metadata": {},
     "output_type": "execute_result"
    }
   ],
   "source": [
    "#  Initialize filter\n",
    "\"\"\"STUDENT CODE START\"\"\"\n",
    "\n",
    "state_estimates = np.zeros((PARTICLES, STATES, len(time_stamps)))\n",
    "gps_estimates = np.empty((2, len(time_stamps)))\n",
    "\n",
    "state_est_t_prev = np.zeros((PARTICLES, STATES))\n",
    "state_est_t_prev[:,0] = rng.uniform(-1, 1, size = PARTICLES)\n",
    "state_est_t_prev[:,1] = rng.uniform(-1, 1, size = PARTICLES)\n",
    "state_est_t_prev[:,2] = rng.uniform(-0.1, 0.1, size = PARTICLES)\n",
    "state_est_t_prev[:,3] = rng.uniform(-0.1, 0.1, size = PARTICLES)\n",
    "state_est_t_prev[:,4] = rng.uniform(-0.2, 0.2, size = PARTICLES)\n",
    "state_est_t_prev[:,5] = 1/PARTICLES \n",
    "\"\"\"STUDENT CODE END\"\"\"\n",
    "\n",
    "#  Run filter over data\n",
    "# for time_ind, _ in enumerate(time_stamps):\n",
    "for time_ind in range(100):\n",
    "    print(time_ind)\n",
    "    # Get control input\n",
    "    \"\"\"STUDENT CODE START\"\"\"\n",
    "    u_t = np.array([x_acc[time_ind], yaw_vel[time_ind]])\n",
    "    z_t = np.array([z_x[time_ind], z_y[time_ind], z_yaw[time_ind]])\n",
    "    \"\"\"STUDENT CODE END\"\"\"\n",
    "\n",
    "    # Prediction Step\n",
    "    state_pred_t = prediction_and_correction_step(state_est_t_prev, u_t, z_t)\n",
    "    state_est_t = resample_step(state_pred_t)\n",
    "\n",
    "    #  For clarity sake/teaching purposes, we explicitly update t->(t-1)\n",
    "    state_est_t_prev = state_est_t\n",
    "\n",
    "    # Log Data\n",
    "    state_estimates[:, :, time_ind] = state_est_t\n",
    "\n",
    "    x_gps, y_gps = convert_gps_to_xy(lat_gps=lat_gps[time_ind],\n",
    "                                     lon_gps=lon_gps[time_ind],\n",
    "                                     lat_origin=lat_origin,\n",
    "                                     lon_origin=lon_origin)\n",
    "    gps_estimates[:, time_ind] = np.array([x_gps, y_gps])\n",
    "\n",
    "# for key in dir():\n",
    "#     try:\n",
    "#         my_shelf[key] = eval(key)\n",
    "#     except Exception:\n",
    "#         #\n",
    "#         # __builtins__, my_shelf, and imported modules can not be shelved.\n",
    "#         #\n",
    "#         print('ERROR shelving: {0}'.format(key))\n",
    "# my_shelf.close()\n",
    "\n",
    "\n",
    "\"\"\"STUDENT CODE START\"\"\"\n",
    "# Plot here\n",
    "\"\"\"STUDENT CODE END\"\"\"\n",
    "#return 0\n"
   ]
  },
  {
   "cell_type": "code",
   "execution_count": 12,
   "id": "afdd470d",
   "metadata": {},
   "outputs": [
    {
     "data": {
      "text/plain": [
       "[<matplotlib.lines.Line2D at 0x12fc91d90>]"
      ]
     },
     "execution_count": 12,
     "metadata": {},
     "output_type": "execute_result"
    },
    {
     "data": {
      "image/png": "[encoded data removed]",
      "text/plain": [
       "<Figure size 432x288 with 1 Axes>"
      ]
     },
     "metadata": {
      "needs_background": "light"
     },
     "output_type": "display_data"
    }
   ],
   "source": [
    "plt.plot(z_x, z_y)"
   ]
  },
  {
   "cell_type": "code",
   "execution_count": 18,
   "id": "898b35aa",
   "metadata": {},
   "outputs": [
    {
     "data": {
      "image/png": "[encoded data removed]",
      "text/plain": [
       "<Figure size 720x576 with 1 Axes>"
      ]
     },
     "metadata": {
      "needs_background": "light"
     },
     "output_type": "display_data"
    }
   ],
   "source": [
    "plt.figure(figsize = (10,8))\n",
    "for p_ind in range(1):\n",
    "    zp = state_estimates[p_ind,0:2,:]\n",
    "    plt.scatter(zp[0,:],zp[1,:])"
   ]
  },
  {
   "cell_type": "code",
   "execution_count": 14,
   "id": "02832264",
   "metadata": {},
   "outputs": [
    {
     "data": {
      "text/plain": [
       "(1000, 6)"
      ]
     },
     "execution_count": 14,
     "metadata": {},
     "output_type": "execute_result"
    }
   ],
   "source": [
    "state_est_t.shape"
   ]
  },
  {
   "cell_type": "code",
   "execution_count": 15,
   "id": "acf3a197",
   "metadata": {},
   "outputs": [],
   "source": [
    "state_est_t = rng.choice(a = state_pred_t, \n",
    "                     size = PARTICLES, \n",
    "                     p = state_pred_t[:,5],\n",
    "                     axis = 0)"
   ]
  },
  {
   "cell_type": "code",
   "execution_count": 16,
   "id": "fffce4f1",
   "metadata": {},
   "outputs": [
    {
     "data": {
      "text/plain": [
       "array([[ 1.18085621e+00, -8.02991296e-01,  5.47478626e-01,\n",
       "        -1.92376252e-01, -2.00456648e-01,  1.00000000e-03],\n",
       "       [ 1.14509415e+00, -4.25206776e-01,  5.61232825e-01,\n",
       "        -1.43063467e-01, -1.06072180e-01,  1.00000000e-03],\n",
       "       [ 2.06412274e+00,  7.04075218e-04,  5.17660177e-01,\n",
       "         1.86875539e-02, -1.02550864e-01,  1.00000000e-03],\n",
       "       ...,\n",
       "       [ 1.92012512e+00, -4.74612803e-01,  4.50860819e-01,\n",
       "        -7.54011152e-03,  7.57867134e-02,  1.00000000e-03],\n",
       "       [ 6.64564944e-01, -7.09461245e-01,  4.52034021e-01,\n",
       "         2.31478461e-02,  9.16746644e-02,  1.00000000e-03],\n",
       "       [ 6.64564944e-01, -7.09461245e-01,  4.52034021e-01,\n",
       "         2.31478461e-02,  9.16746644e-02,  1.00000000e-03]])"
      ]
     },
     "execution_count": 16,
     "metadata": {},
     "output_type": "execute_result"
    }
   ],
   "source": [
    "state_pred_t"
   ]
  },
  {
   "cell_type": "code",
   "execution_count": 17,
   "id": "792de9ca",
   "metadata": {},
   "outputs": [
    {
     "data": {
      "text/plain": [
       "array([0.001, 0.001, 0.001, 0.001, 0.001, 0.001, 0.001, 0.001, 0.001,\n",
       "       0.001, 0.001, 0.001, 0.001, 0.001, 0.001, 0.001, 0.001, 0.001,\n",
       "       0.001, 0.001, 0.001, 0.001, 0.001, 0.001, 0.001, 0.001, 0.001,\n",
       "       0.001, 0.001, 0.001, 0.001, 0.001, 0.001, 0.001, 0.001, 0.001,\n",
       "       0.001, 0.001, 0.001, 0.001, 0.001, 0.001, 0.001, 0.001, 0.001,\n",
       "       0.001, 0.001, 0.001, 0.001, 0.001, 0.001, 0.001, 0.001, 0.001,\n",
       "       0.001, 0.001, 0.001, 0.001, 0.001, 0.001, 0.001, 0.001, 0.001,\n",
       "       0.001, 0.001, 0.001, 0.001, 0.001, 0.001, 0.001, 0.001, 0.001,\n",
       "       0.001, 0.001, 0.001, 0.001, 0.001, 0.001, 0.001, 0.001, 0.001,\n",
       "       0.001, 0.001, 0.001, 0.001, 0.001, 0.001, 0.001, 0.001, 0.001,\n",
       "       0.001, 0.001, 0.001, 0.001, 0.001, 0.001, 0.001, 0.001, 0.001,\n",
       "       0.001, 0.001, 0.001, 0.001, 0.001, 0.001, 0.001, 0.001, 0.001,\n",
       "       0.001, 0.001, 0.001, 0.001, 0.001, 0.001, 0.001, 0.001, 0.001,\n",
       "       0.001, 0.001, 0.001, 0.001, 0.001, 0.001, 0.001, 0.001, 0.001,\n",
       "       0.001, 0.001, 0.001, 0.001, 0.001, 0.001, 0.001, 0.001, 0.001,\n",
       "       0.001, 0.001, 0.001, 0.001, 0.001, 0.001, 0.001, 0.001, 0.001,\n",
       "       0.001, 0.001, 0.001, 0.001, 0.001, 0.001, 0.001, 0.001, 0.001,\n",
       "       0.001, 0.001, 0.001, 0.001, 0.001, 0.001, 0.001, 0.001, 0.001,\n",
       "       0.001, 0.001, 0.001, 0.001, 0.001, 0.001, 0.001, 0.001, 0.001,\n",
       "       0.001, 0.001, 0.001, 0.001, 0.001, 0.001, 0.001, 0.001, 0.001,\n",
       "       0.001, 0.001, 0.001, 0.001, 0.001, 0.001, 0.001, 0.001, 0.001,\n",
       "       0.001, 0.001, 0.001, 0.001, 0.001, 0.001, 0.001, 0.001, 0.001,\n",
       "       0.001, 0.001, 0.001, 0.001, 0.001, 0.001, 0.001, 0.001, 0.001,\n",
       "       0.001, 0.001, 0.001, 0.001, 0.001, 0.001, 0.001, 0.001, 0.001,\n",
       "       0.001, 0.001, 0.001, 0.001, 0.001, 0.001, 0.001, 0.001, 0.001,\n",
       "       0.001, 0.001, 0.001, 0.001, 0.001, 0.001, 0.001, 0.001, 0.001,\n",
       "       0.001, 0.001, 0.001, 0.001, 0.001, 0.001, 0.001, 0.001, 0.001,\n",
       "       0.001, 0.001, 0.001, 0.001, 0.001, 0.001, 0.001, 0.001, 0.001,\n",
       "       0.001, 0.001, 0.001, 0.001, 0.001, 0.001, 0.001, 0.001, 0.001,\n",
       "       0.001, 0.001, 0.001, 0.001, 0.001, 0.001, 0.001, 0.001, 0.001,\n",
       "       0.001, 0.001, 0.001, 0.001, 0.001, 0.001, 0.001, 0.001, 0.001,\n",
       "       0.001, 0.001, 0.001, 0.001, 0.001, 0.001, 0.001, 0.001, 0.001,\n",
       "       0.001, 0.001, 0.001, 0.001, 0.001, 0.001, 0.001, 0.001, 0.001,\n",
       "       0.001, 0.001, 0.001, 0.001, 0.001, 0.001, 0.001, 0.001, 0.001,\n",
       "       0.001, 0.001, 0.001, 0.001, 0.001, 0.001, 0.001, 0.001, 0.001,\n",
       "       0.001, 0.001, 0.001, 0.001, 0.001, 0.001, 0.001, 0.001, 0.001,\n",
       "       0.001, 0.001, 0.001, 0.001, 0.001, 0.001, 0.001, 0.001, 0.001,\n",
       "       0.001, 0.001, 0.001, 0.001, 0.001, 0.001, 0.001, 0.001, 0.001,\n",
       "       0.001, 0.001, 0.001, 0.001, 0.001, 0.001, 0.001, 0.001, 0.001,\n",
       "       0.001, 0.001, 0.001, 0.001, 0.001, 0.001, 0.001, 0.001, 0.001,\n",
       "       0.001, 0.001, 0.001, 0.001, 0.001, 0.001, 0.001, 0.001, 0.001,\n",
       "       0.001, 0.001, 0.001, 0.001, 0.001, 0.001, 0.001, 0.001, 0.001,\n",
       "       0.001, 0.001, 0.001, 0.001, 0.001, 0.001, 0.001, 0.001, 0.001,\n",
       "       0.001, 0.001, 0.001, 0.001, 0.001, 0.001, 0.001, 0.001, 0.001,\n",
       "       0.001, 0.001, 0.001, 0.001, 0.001, 0.001, 0.001, 0.001, 0.001,\n",
       "       0.001, 0.001, 0.001, 0.001, 0.001, 0.001, 0.001, 0.001, 0.001,\n",
       "       0.001, 0.001, 0.001, 0.001, 0.001, 0.001, 0.001, 0.001, 0.001,\n",
       "       0.001, 0.001, 0.001, 0.001, 0.001, 0.001, 0.001, 0.001, 0.001,\n",
       "       0.001, 0.001, 0.001, 0.001, 0.001, 0.001, 0.001, 0.001, 0.001,\n",
       "       0.001, 0.001, 0.001, 0.001, 0.001, 0.001, 0.001, 0.001, 0.001,\n",
       "       0.001, 0.001, 0.001, 0.001, 0.001, 0.001, 0.001, 0.001, 0.001,\n",
       "       0.001, 0.001, 0.001, 0.001, 0.001, 0.001, 0.001, 0.001, 0.001,\n",
       "       0.001, 0.001, 0.001, 0.001, 0.001, 0.001, 0.001, 0.001, 0.001,\n",
       "       0.001, 0.001, 0.001, 0.001, 0.001, 0.001, 0.001, 0.001, 0.001,\n",
       "       0.001, 0.001, 0.001, 0.001, 0.001, 0.001, 0.001, 0.001, 0.001,\n",
       "       0.001, 0.001, 0.001, 0.001, 0.001, 0.001, 0.001, 0.001, 0.001,\n",
       "       0.001, 0.001, 0.001, 0.001, 0.001, 0.001, 0.001, 0.001, 0.001,\n",
       "       0.001, 0.001, 0.001, 0.001, 0.001, 0.001, 0.001, 0.001, 0.001,\n",
       "       0.001, 0.001, 0.001, 0.001, 0.001, 0.001, 0.001, 0.001, 0.001,\n",
       "       0.001, 0.001, 0.001, 0.001, 0.001, 0.001, 0.001, 0.001, 0.001,\n",
       "       0.001, 0.001, 0.001, 0.001, 0.001, 0.001, 0.001, 0.001, 0.001,\n",
       "       0.001, 0.001, 0.001, 0.001, 0.001, 0.001, 0.001, 0.001, 0.001,\n",
       "       0.001, 0.001, 0.001, 0.001, 0.001, 0.001, 0.001, 0.001, 0.001,\n",
       "       0.001, 0.001, 0.001, 0.001, 0.001, 0.001, 0.001, 0.001, 0.001,\n",
       "       0.001, 0.001, 0.001, 0.001, 0.001, 0.001, 0.001, 0.001, 0.001,\n",
       "       0.001, 0.001, 0.001, 0.001, 0.001, 0.001, 0.001, 0.001, 0.001,\n",
       "       0.001, 0.001, 0.001, 0.001, 0.001, 0.001, 0.001, 0.001, 0.001,\n",
       "       0.001, 0.001, 0.001, 0.001, 0.001, 0.001, 0.001, 0.001, 0.001,\n",
       "       0.001, 0.001, 0.001, 0.001, 0.001, 0.001, 0.001, 0.001, 0.001,\n",
       "       0.001, 0.001, 0.001, 0.001, 0.001, 0.001, 0.001, 0.001, 0.001,\n",
       "       0.001, 0.001, 0.001, 0.001, 0.001, 0.001, 0.001, 0.001, 0.001,\n",
       "       0.001, 0.001, 0.001, 0.001, 0.001, 0.001, 0.001, 0.001, 0.001,\n",
       "       0.001, 0.001, 0.001, 0.001, 0.001, 0.001, 0.001, 0.001, 0.001,\n",
       "       0.001, 0.001, 0.001, 0.001, 0.001, 0.001, 0.001, 0.001, 0.001,\n",
       "       0.001, 0.001, 0.001, 0.001, 0.001, 0.001, 0.001, 0.001, 0.001,\n",
       "       0.001, 0.001, 0.001, 0.001, 0.001, 0.001, 0.001, 0.001, 0.001,\n",
       "       0.001, 0.001, 0.001, 0.001, 0.001, 0.001, 0.001, 0.001, 0.001,\n",
       "       0.001, 0.001, 0.001, 0.001, 0.001, 0.001, 0.001, 0.001, 0.001,\n",
       "       0.001, 0.001, 0.001, 0.001, 0.001, 0.001, 0.001, 0.001, 0.001,\n",
       "       0.001, 0.001, 0.001, 0.001, 0.001, 0.001, 0.001, 0.001, 0.001,\n",
       "       0.001, 0.001, 0.001, 0.001, 0.001, 0.001, 0.001, 0.001, 0.001,\n",
       "       0.001, 0.001, 0.001, 0.001, 0.001, 0.001, 0.001, 0.001, 0.001,\n",
       "       0.001, 0.001, 0.001, 0.001, 0.001, 0.001, 0.001, 0.001, 0.001,\n",
       "       0.001, 0.001, 0.001, 0.001, 0.001, 0.001, 0.001, 0.001, 0.001,\n",
       "       0.001, 0.001, 0.001, 0.001, 0.001, 0.001, 0.001, 0.001, 0.001,\n",
       "       0.001, 0.001, 0.001, 0.001, 0.001, 0.001, 0.001, 0.001, 0.001,\n",
       "       0.001, 0.001, 0.001, 0.001, 0.001, 0.001, 0.001, 0.001, 0.001,\n",
       "       0.001, 0.001, 0.001, 0.001, 0.001, 0.001, 0.001, 0.001, 0.001,\n",
       "       0.001, 0.001, 0.001, 0.001, 0.001, 0.001, 0.001, 0.001, 0.001,\n",
       "       0.001, 0.001, 0.001, 0.001, 0.001, 0.001, 0.001, 0.001, 0.001,\n",
       "       0.001, 0.001, 0.001, 0.001, 0.001, 0.001, 0.001, 0.001, 0.001,\n",
       "       0.001, 0.001, 0.001, 0.001, 0.001, 0.001, 0.001, 0.001, 0.001,\n",
       "       0.001, 0.001, 0.001, 0.001, 0.001, 0.001, 0.001, 0.001, 0.001,\n",
       "       0.001, 0.001, 0.001, 0.001, 0.001, 0.001, 0.001, 0.001, 0.001,\n",
       "       0.001, 0.001, 0.001, 0.001, 0.001, 0.001, 0.001, 0.001, 0.001,\n",
       "       0.001, 0.001, 0.001, 0.001, 0.001, 0.001, 0.001, 0.001, 0.001,\n",
       "       0.001, 0.001, 0.001, 0.001, 0.001, 0.001, 0.001, 0.001, 0.001,\n",
       "       0.001, 0.001, 0.001, 0.001, 0.001, 0.001, 0.001, 0.001, 0.001,\n",
       "       0.001, 0.001, 0.001, 0.001, 0.001, 0.001, 0.001, 0.001, 0.001,\n",
       "       0.001, 0.001, 0.001, 0.001, 0.001, 0.001, 0.001, 0.001, 0.001,\n",
       "       0.001, 0.001, 0.001, 0.001, 0.001, 0.001, 0.001, 0.001, 0.001,\n",
       "       0.001, 0.001, 0.001, 0.001, 0.001, 0.001, 0.001, 0.001, 0.001,\n",
       "       0.001, 0.001, 0.001, 0.001, 0.001, 0.001, 0.001, 0.001, 0.001,\n",
       "       0.001, 0.001, 0.001, 0.001, 0.001, 0.001, 0.001, 0.001, 0.001,\n",
       "       0.001, 0.001, 0.001, 0.001, 0.001, 0.001, 0.001, 0.001, 0.001,\n",
       "       0.001, 0.001, 0.001, 0.001, 0.001, 0.001, 0.001, 0.001, 0.001,\n",
       "       0.001, 0.001, 0.001, 0.001, 0.001, 0.001, 0.001, 0.001, 0.001,\n",
       "       0.001, 0.001, 0.001, 0.001, 0.001, 0.001, 0.001, 0.001, 0.001,\n",
       "       0.001, 0.001, 0.001, 0.001, 0.001, 0.001, 0.001, 0.001, 0.001,\n",
       "       0.001, 0.001, 0.001, 0.001, 0.001, 0.001, 0.001, 0.001, 0.001,\n",
       "       0.001, 0.001, 0.001, 0.001, 0.001, 0.001, 0.001, 0.001, 0.001,\n",
       "       0.001])"
      ]
     },
     "execution_count": 17,
     "metadata": {},
     "output_type": "execute_result"
    }
   ],
   "source": [
    "state_pred_t[:,5]"
   ]
  },
  {
   "cell_type": "code",
   "execution_count": null,
   "id": "c9ce1129",
   "metadata": {},
   "outputs": [],
   "source": []
  }
 ],
 "metadata": {
  "kernelspec": {
   "display_name": "Python 3",
   "language": "python",
   "name": "python3"
  },
  "language_info": {
   "codemirror_mode": {
    "name": "ipython",
    "version": 3
   },
   "file_extension": ".py",
   "mimetype": "text/x-python",
   "name": "python",
   "nbconvert_exporter": "python",
   "pygments_lexer": "ipython3",
   "version": "3.9.1"
  }
 },
 "nbformat": 4,
 "nbformat_minor": 5
}
