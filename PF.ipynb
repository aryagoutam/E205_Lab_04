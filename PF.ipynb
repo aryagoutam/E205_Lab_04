{
 "cells": [
  {
   "cell_type": "code",
   "execution_count": 1,
   "id": "d5607080",
   "metadata": {},
   "outputs": [
    {
     "data": {
      "text/plain": [
       "'\\nAuthor: Andrew Q. Pham, Victor Shia\\nEmail: apham@g.hmc.edu, vshia@g.hmc.edu\\nDate of Creation: 2/26/20\\nDescription:\\n    Particle filter implementation to filtering localization estimate\\n    This code is for teaching purposes for HMC ENGR205 System Simulation Lab 4\\n    Student code version with parts omitted.\\n'"
      ]
     },
     "execution_count": 1,
     "metadata": {},
     "output_type": "execute_result"
    }
   ],
   "source": [
    "\"\"\"\n",
    "Author: Andrew Q. Pham, Victor Shia\n",
    "Email: apham@g.hmc.edu, vshia@g.hmc.edu\n",
    "Date of Creation: 2/26/20\n",
    "Description:\n",
    "    Particle filter implementation to filtering localization estimate\n",
    "    This code is for teaching purposes for HMC ENGR205 System Simulation Lab 4\n",
    "    Student code version with parts omitted.\n",
    "\"\"\"\n"
   ]
  },
  {
   "cell_type": "code",
   "execution_count": 6,
   "id": "7febadf4",
   "metadata": {},
   "outputs": [],
   "source": [
    "from utils import *\n",
    "import matplotlib.pyplot as plt\n",
    "import numpy as np\n",
    "import shelve\n",
    "from utils import *\n",
    "from prediction import prediction_and_correction_step\n",
    "from resample import resample_step\n",
    "import scipy.stats"
   ]
  },
  {
   "cell_type": "code",
   "execution_count": 3,
   "id": "eb70858c",
   "metadata": {},
   "outputs": [],
   "source": [
    "def propogate_state(x_t_prev, noisy_u_t):\n",
    "    \"\"\"Propagate/predict the state based on chosen motion model\n",
    "\n",
    "    Parameters:\n",
    "    x_t_prev (np.array)  -- the previous state estimate\n",
    "    u_t (np.array)       -- the current control input\n",
    "\n",
    "    Returns:\n",
    "    x_bar_t (np.array)   -- the predicted state\n",
    "    \"\"\"\n",
    "    \"\"\"STUDENT CODE START\"\"\"\n",
    "    x_pos_prev, y_pos_prev, x_vel_prev, y_vel_prev, yaw_prev, weight_prev = x_t_prev\n",
    "    x_acc, yaw_vel = noisy_u_t\n",
    "    \n",
    "    x_bar_t = np.zeros(6)\n",
    "    \n",
    "    #Propagation does not change the weights\n",
    "    x_bar_t = x_t_prev + np.array([x_vel_prev * DT,\n",
    "                                   y_vel_prev * DT,\n",
    "                                   x_acc * np.cos(yaw_prev) * DT,\n",
    "                                   x_acc * np.sin(yaw_prev) * DT,\n",
    "                                   yaw_vel * DT,\n",
    "                                   weight_prev])\n",
    "    \"\"\"STUDENT CODE END\"\"\"\n",
    "    return x_bar_t"
   ]
  },
  {
   "cell_type": "code",
   "execution_count": 21,
   "id": "df2a352e",
   "metadata": {},
   "outputs": [],
   "source": [
    "def prediction_and_correction_step(x_t_prev, u_t, z_t):\n",
    "    \"\"\"Compute the prediction and correction (re-weighting) for the PF\n",
    "\n",
    "    Parameters:\n",
    "    x_t_prev (np.array)         -- the previous state estimate\n",
    "    u_t (np.array)              -- the control input\n",
    "    z_t (np.array)              -- the current measurement\n",
    "\n",
    "    Returns:\n",
    "    x_bar_t (np.array)          -- the predicted state estimate of time t\n",
    "    \"\"\"\n",
    "\n",
    "    \"\"\"STUDENT CODE START\"\"\"\n",
    "    \n",
    "    # Adding noise before propagation\n",
    "    \n",
    "    x_acc, yaw_vel = u_t\n",
    "    \n",
    "    x_bar_t = np.zeros_like(x_t_prev) # N_particles x N_states mtx\n",
    "    \n",
    "    # Prediction step\n",
    "    for i in range(PARTICLES):\n",
    "        x_acc_noise = np.random.normal(loc = 0, scale = x_acc_noise)\n",
    "        yaw_vel_noise = np.random.normal(loc = 0, scale = yaw_vel_noise)\n",
    "        noisy_u_t = np.array([x_acc + x_acc_noise, yaw_vel + yaw_vel_noise])\n",
    "        x_bar_t[i,:] = propagate_state(x_t_prev[i,:], noisy_u_t)\n",
    "    \n",
    "    # Correction\n",
    "    \n",
    "    \"\"\"STUDENT CODE END\"\"\"\n",
    "\n",
    "    return x_bar_t"
   ]
  },
  {
   "cell_type": "code",
   "execution_count": null,
   "id": "0d941926",
   "metadata": {},
   "outputs": [],
   "source": [
    "def resample_step(x_bar_t):\n",
    "    \"\"\"Ressampling step for the PF\n",
    "\n",
    "    Parameters:\n",
    "    x_bar_t       (np.array)    -- the predicted state estimate of time t\n",
    "    \"\"\"\n",
    "\n",
    "    \"\"\"STUDENT CODE START\"\"\"\n",
    "    x_est_t = x_bar_t\n",
    "    \"\"\"STUDENT CODE END\"\"\"\n",
    "\n",
    "    return x_est_t"
   ]
  },
  {
   "cell_type": "code",
   "execution_count": null,
   "id": "fae39b9d",
   "metadata": {},
   "outputs": [],
   "source": [
    "def moving_average(x, window = 10):\n",
    "    return np.convolve(x, 1.0 * np.ones(window) / window, 'full')"
   ]
  },
  {
   "cell_type": "code",
   "execution_count": null,
   "id": "da768b69",
   "metadata": {},
   "outputs": [],
   "source": [
    "filepath = \"../E205_Lab_03/logs/\"\n",
    "filename = \"2020_2_26__16_59_7\"\n",
    "# filename = \"2020_2_26__17_21_59\"\n",
    "data, is_filtered = load_data(filepath + filename)\n",
    "\n",
    "# Save filtered data so don't have to process unfiltered data everytime\n",
    "if not is_filtered:\n",
    "    data = filter_data(data)\n",
    "    save_data(f_data, filepath+filename+\"_filtered.csv\")"
   ]
  },
  {
   "cell_type": "code",
   "execution_count": 5,
   "id": "0fa6b7b4",
   "metadata": {},
   "outputs": [
    {
     "ename": "NameError",
     "evalue": "name 'data' is not defined",
     "output_type": "error",
     "traceback": [
      "\u001b[0;31m---------------------------------------------------------------------------\u001b[0m",
      "\u001b[0;31mNameError\u001b[0m                                 Traceback (most recent call last)",
      "\u001b[0;32m<ipython-input-5-f91aace786df>\u001b[0m in \u001b[0;36m<module>\u001b[0;34m\u001b[0m\n\u001b[1;32m      1\u001b[0m \u001b[0;31m# Load data into variables\u001b[0m\u001b[0;34m\u001b[0m\u001b[0;34m\u001b[0m\u001b[0;34m\u001b[0m\u001b[0m\n\u001b[0;32m----> 2\u001b[0;31m \u001b[0mx_lidar\u001b[0m \u001b[0;34m=\u001b[0m \u001b[0mnp\u001b[0m\u001b[0;34m.\u001b[0m\u001b[0marray\u001b[0m\u001b[0;34m(\u001b[0m\u001b[0mdata\u001b[0m\u001b[0;34m[\u001b[0m\u001b[0;34m\"X\"\u001b[0m\u001b[0;34m]\u001b[0m\u001b[0;34m)\u001b[0m\u001b[0;34m\u001b[0m\u001b[0;34m\u001b[0m\u001b[0m\n\u001b[0m\u001b[1;32m      3\u001b[0m \u001b[0my_lidar\u001b[0m \u001b[0;34m=\u001b[0m \u001b[0mnp\u001b[0m\u001b[0;34m.\u001b[0m\u001b[0marray\u001b[0m\u001b[0;34m(\u001b[0m\u001b[0mdata\u001b[0m\u001b[0;34m[\u001b[0m\u001b[0;34m\"Y\"\u001b[0m\u001b[0;34m]\u001b[0m\u001b[0;34m)\u001b[0m\u001b[0;34m\u001b[0m\u001b[0;34m\u001b[0m\u001b[0m\n\u001b[1;32m      4\u001b[0m \u001b[0mz_lidar\u001b[0m \u001b[0;34m=\u001b[0m \u001b[0mdata\u001b[0m\u001b[0;34m[\u001b[0m\u001b[0;34m\"Z\"\u001b[0m\u001b[0;34m]\u001b[0m\u001b[0;34m\u001b[0m\u001b[0;34m\u001b[0m\u001b[0m\n\u001b[1;32m      5\u001b[0m \u001b[0mtime_stamps\u001b[0m \u001b[0;34m=\u001b[0m \u001b[0mdata\u001b[0m\u001b[0;34m[\u001b[0m\u001b[0;34m\"Time Stamp\"\u001b[0m\u001b[0;34m]\u001b[0m\u001b[0;34m\u001b[0m\u001b[0;34m\u001b[0m\u001b[0m\n",
      "\u001b[0;31mNameError\u001b[0m: name 'data' is not defined"
     ]
    }
   ],
   "source": [
    "# Load data into variables\n",
    "x_lidar = np.array(data[\"X\"])\n",
    "y_lidar = np.array(data[\"Y\"])\n",
    "z_lidar = data[\"Z\"]\n",
    "time_stamps = data[\"Time Stamp\"]\n",
    "lat_gps = np.array(data[\"Latitude\"])\n",
    "lon_gps = np.array(data[\"Longitude\"])\n",
    "yaw_lidar = np.array(data[\"Yaw\"])\n",
    "pitch_lidar = data[\"Pitch\"]\n",
    "roll_lidar = data[\"Roll\"]\n",
    "x_acc = np.array(data[\"AccelX\"])\n",
    "y_acc = np.array(data[\"AccelY\"])\n",
    "\n",
    "lat_origin = lat_gps[0]\n",
    "lon_origin = lon_gps[0]\n",
    "\n",
    "### TRANSFORMS/EDITS/OVERWRITES\n",
    "yaw_lidar = (np.array(yaw_lidar) * -1) * np.pi/180\n",
    "yaw_lidar = our_wrap_to_pi(yaw_lidar)\n",
    "\n",
    "time_stamps = np.arange(len(time_stamps)) * 0.1\n",
    "\n",
    "window_size = 3\n",
    "\n",
    "x_acc = np.convolve(np.array(x_acc), np.ones(3)/3, mode = 'same')\n",
    "#y_acc = np.convolve(np.array(y_acc), np.ones(3)/3, mode = 'same')\n",
    "\n",
    "z_x = 5 - (y_lidar*np.cos(yaw_lidar) + x_lidar*np.sin(yaw_lidar))\n",
    "z_y = -5 - (y_lidar*np.sin(yaw_lidar) - x_lidar*np.cos(yaw_lidar))\n",
    "z_yaw = yaw_lidar\n",
    "\n",
    "yaw_vel = our_wrap_to_pi(yaw_lidar[1:]-yaw_lidar[:-1]) / DT\n",
    "yaw_vel = np.append(yaw_vel, yaw_vel[-1])"
   ]
  },
  {
   "cell_type": "code",
   "execution_count": 18,
   "id": "868edf1e",
   "metadata": {},
   "outputs": [
    {
     "data": {
      "text/plain": [
       "[<matplotlib.lines.Line2D at 0x116ca4e50>]"
      ]
     },
     "execution_count": 18,
     "metadata": {},
     "output_type": "execute_result"
    },
    {
     "data": {
      "image/png": "[encoded data removed]",
      "text/plain": [
       "<Figure size 432x288 with 1 Axes>"
      ]
     },
     "metadata": {
      "needs_background": "light"
     },
     "output_type": "display_data"
    }
   ],
   "source": [
    "plt.plot(x_acc)"
   ]
  },
  {
   "cell_type": "code",
   "execution_count": 19,
   "id": "af5e5d02",
   "metadata": {},
   "outputs": [
    {
     "data": {
      "text/plain": [
       "[<matplotlib.lines.Line2D at 0x116dfd310>]"
      ]
     },
     "execution_count": 19,
     "metadata": {},
     "output_type": "execute_result"
    },
    {
     "data": {
      "image/png": "[encoded data removed]",
      "text/plain": [
       "<Figure size 432x288 with 1 Axes>"
      ]
     },
     "metadata": {
      "needs_background": "light"
     },
     "output_type": "display_data"
    }
   ],
   "source": [
    "plt.plot(yaw_vel[])"
   ]
  },
  {
   "cell_type": "code",
   "execution_count": 24,
   "id": "ea4abaee",
   "metadata": {},
   "outputs": [
    {
     "data": {
      "text/plain": [
       "0.07831223018660441"
      ]
     },
     "execution_count": 24,
     "metadata": {},
     "output_type": "execute_result"
    }
   ],
   "source": [
    "(np.sum(yaw_vel[0:100]**2)/100)**0.5"
   ]
  },
  {
   "cell_type": "code",
   "execution_count": 25,
   "id": "1bc7f434",
   "metadata": {},
   "outputs": [
    {
     "data": {
      "text/plain": [
       "0.6518561531844617"
      ]
     },
     "execution_count": 25,
     "metadata": {},
     "output_type": "execute_result"
    }
   ],
   "source": [
    "(np.sum(x_acc[0:100]**2)/100)**0.5"
   ]
  },
  {
   "cell_type": "code",
   "execution_count": null,
   "id": "77e9afd1",
   "metadata": {},
   "outputs": [],
   "source": []
  },
  {
   "cell_type": "code",
   "execution_count": 9,
   "id": "4eb60ae3",
   "metadata": {},
   "outputs": [],
   "source": [
    "    #  Initialize filter\n",
    "    \"\"\"STUDENT CODE START\"\"\"\n",
    "    \"\"\"STUDENT CODE END\"\"\"\n",
    "\n",
    "    #  Run filter over data\n",
    "    for t, _ in enumerate(time_stamps):\n",
    "        # Get control input\n",
    "        \"\"\"STUDENT CODE START\"\"\"\n",
    "        \"\"\"STUDENT CODE END\"\"\"\n",
    "\n",
    "        # Prediction Step\n",
    "        state_pred_t = prediction_and_correction_step(state_est_t_prev, u_t, z_t)\n",
    "        state_est_t = resample_step(state_pred_t)\n",
    "\n",
    "        #  For clarity sake/teaching purposes, we explicitly update t->(t-1)\n",
    "        state_est_t_prev = state_est_t\n",
    "\n",
    "        # Log Data\n",
    "        state_estimates[:, :, t] = state_est_t\n",
    "\n",
    "        x_gps, y_gps = convert_gps_to_xy(lat_gps=lat_gps[t],\n",
    "                                         lon_gps=lon_gps[t],\n",
    "                                         lat_origin=lat_origin,\n",
    "                                         lon_origin=lon_origin)\n",
    "        gps_estimates[:, t] = np.array([x_gps, y_gps])\n",
    "        lidar_pos[:,t] = np.array([z_x, z_y])\n",
    "\n",
    "    for key in dir():\n",
    "        try:\n",
    "            my_shelf[key] = eval(key)\n",
    "        except Exception:\n",
    "            #\n",
    "            # __builtins__, my_shelf, and imported modules can not be shelved.\n",
    "            #\n",
    "            print('ERROR shelving: {0}'.format(key))\n",
    "    my_shelf.close()\n",
    "\n",
    "\n",
    "    \"\"\"STUDENT CODE START\"\"\"\n",
    "    # Plot here\n",
    "    \"\"\"STUDENT CODE END\"\"\"\n",
    "    return 0\n"
   ]
  },
  {
   "cell_type": "code",
   "execution_count": null,
   "id": "68fe84fb",
   "metadata": {},
   "outputs": [],
   "source": []
  }
 ],
 "metadata": {
  "kernelspec": {
   "display_name": "Python 3",
   "language": "python",
   "name": "python3"
  },
  "language_info": {
   "codemirror_mode": {
    "name": "ipython",
    "version": 3
   },
   "file_extension": ".py",
   "mimetype": "text/x-python",
   "name": "python",
   "nbconvert_exporter": "python",
   "pygments_lexer": "ipython3",
   "version": "3.9.1"
  }
 },
 "nbformat": 4,
 "nbformat_minor": 5
}
